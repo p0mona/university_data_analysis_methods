{
  "nbformat": 4,
  "nbformat_minor": 0,
  "metadata": {
    "colab": {
      "provenance": [],
      "authorship_tag": "ABX9TyNB431F6vdtQW+OIUnsuylL",
      "include_colab_link": true
    },
    "kernelspec": {
      "name": "python3",
      "display_name": "Python 3"
    },
    "language_info": {
      "name": "python"
    }
  },
  "cells": [
    {
      "cell_type": "markdown",
      "metadata": {
        "id": "view-in-github",
        "colab_type": "text"
      },
      "source": [
        "<a href=\"https://colab.research.google.com/github/p0mona/university_data_analysis_methods/blob/main/mad_lab3.ipynb\" target=\"_parent\"><img src=\"https://colab.research.google.com/assets/colab-badge.svg\" alt=\"Open In Colab\"/></a>"
      ]
    },
    {
      "cell_type": "code",
      "source": [
        "import numpy as np"
      ],
      "metadata": {
        "id": "kPyadJPLWdpA"
      },
      "execution_count": 106,
      "outputs": []
    },
    {
      "cell_type": "markdown",
      "source": [
        "#Zadanie 1\n",
        "Stwórz tablicę o nazwie a_small_one o wymiarach 8x8 z wartościami od 1 do 64.\n",
        "\n"
      ],
      "metadata": {
        "id": "v2XvK0N2IL7o"
      }
    },
    {
      "cell_type": "code",
      "execution_count": 108,
      "metadata": {
        "id": "hcqd1sp38oLX",
        "colab": {
          "base_uri": "https://localhost:8080/"
        },
        "outputId": "30d0c5ae-f5a0-4a58-ec77-417d850ff3bf"
      },
      "outputs": [
        {
          "output_type": "execute_result",
          "data": {
            "text/plain": [
              "array([[ 1,  2,  3,  4,  5,  6,  7,  8],\n",
              "       [ 9, 10, 11, 12, 13, 14, 15, 16],\n",
              "       [17, 18, 19, 20, 21, 22, 23, 24],\n",
              "       [25, 26, 27, 28, 29, 30, 31, 32],\n",
              "       [33, 34, 35, 36, 37, 38, 39, 40],\n",
              "       [41, 42, 43, 44, 45, 46, 47, 48],\n",
              "       [49, 50, 51, 52, 53, 54, 55, 56],\n",
              "       [57, 58, 59, 60, 61, 62, 63, 64]])"
            ]
          },
          "metadata": {},
          "execution_count": 108
        }
      ],
      "source": [
        "a_small_one = np.arange(1, 65).reshape((8, 8))\n",
        "a_small_one"
      ]
    },
    {
      "cell_type": "markdown",
      "source": [
        "#Zadanie 2\n",
        "\n",
        "dla tablicy a_small_one policz:\n",
        "\n",
        "-sumę dla każdej kolumny,\n",
        "\n",
        "-sumę skumulowaną dla każdego wiersza,\n",
        "\n",
        "-wartość średnią dla każdego wiersza,"
      ],
      "metadata": {
        "id": "AlZCu5noIRLX"
      }
    },
    {
      "cell_type": "code",
      "source": [
        "print(f'Suma dla każdej kolumny: {a_small_one.sum(axis=0)}')\n",
        "print(f'Suma skumulowana dla każdego wiersza:\\n{a_small_one.cumsum(axis=1)}')\n",
        "print(f'Wartość średnia dla każdego wiersza: {a_small_one.mean(axis=1)}')"
      ],
      "metadata": {
        "id": "cAn8vZI6IfVp",
        "colab": {
          "base_uri": "https://localhost:8080/"
        },
        "outputId": "b6d5a9ea-2248-4f92-bb0d-be9166c9bd74"
      },
      "execution_count": 109,
      "outputs": [
        {
          "output_type": "stream",
          "name": "stdout",
          "text": [
            "Suma dla każdej kolumny: [232 240 248 256 264 272 280 288]\n",
            "Suma skumulowana dla każdego wiersza:\n",
            "[[  1   3   6  10  15  21  28  36]\n",
            " [  9  19  30  42  55  69  84 100]\n",
            " [ 17  35  54  74  95 117 140 164]\n",
            " [ 25  51  78 106 135 165 196 228]\n",
            " [ 33  67 102 138 175 213 252 292]\n",
            " [ 41  83 126 170 215 261 308 356]\n",
            " [ 49  99 150 202 255 309 364 420]\n",
            " [ 57 115 174 234 295 357 420 484]]\n",
            "Wartość średnia dla każdego wiersza: [ 4.5 12.5 20.5 28.5 36.5 44.5 52.5 60.5]\n"
          ]
        }
      ]
    },
    {
      "cell_type": "markdown",
      "source": [
        "#Zadanie 3\n",
        "Zwróć podtablicę z tablicy a_small_one z elementami parzystymi (nie nadpisuj tej zmiennej)."
      ],
      "metadata": {
        "id": "5dOwrcYeIfu4"
      }
    },
    {
      "cell_type": "code",
      "source": [
        "a_small_one[a_small_one % 2 == 0].reshape(8, 4)"
      ],
      "metadata": {
        "id": "BO9JbzDoLL_t",
        "colab": {
          "base_uri": "https://localhost:8080/"
        },
        "outputId": "4cf2f47f-0309-44d1-fc41-25ebad891668"
      },
      "execution_count": 110,
      "outputs": [
        {
          "output_type": "execute_result",
          "data": {
            "text/plain": [
              "array([[ 2,  4,  6,  8],\n",
              "       [10, 12, 14, 16],\n",
              "       [18, 20, 22, 24],\n",
              "       [26, 28, 30, 32],\n",
              "       [34, 36, 38, 40],\n",
              "       [42, 44, 46, 48],\n",
              "       [50, 52, 54, 56],\n",
              "       [58, 60, 62, 64]])"
            ]
          },
          "metadata": {},
          "execution_count": 110
        }
      ]
    },
    {
      "cell_type": "markdown",
      "source": [
        "#Zadanie 4\n",
        "Zapisz do zmiennej o nazwie no_even_small_one tablicę a_small_one zamieniając wartości parzyste na wartość np.nan."
      ],
      "metadata": {
        "id": "pSoq62j2LMVR"
      }
    },
    {
      "cell_type": "code",
      "source": [
        "no_even_small_one = a_small_one.copy().astype(float)\n",
        "no_even_small_one[a_small_one % 2 == 0] = np.nan\n",
        "no_even_small_one"
      ],
      "metadata": {
        "id": "MOr68DfZLQep",
        "colab": {
          "base_uri": "https://localhost:8080/"
        },
        "outputId": "f5575988-451f-4cb0-b6fd-941d2971b299"
      },
      "execution_count": 111,
      "outputs": [
        {
          "output_type": "execute_result",
          "data": {
            "text/plain": [
              "array([[ 1., nan,  3., nan,  5., nan,  7., nan],\n",
              "       [ 9., nan, 11., nan, 13., nan, 15., nan],\n",
              "       [17., nan, 19., nan, 21., nan, 23., nan],\n",
              "       [25., nan, 27., nan, 29., nan, 31., nan],\n",
              "       [33., nan, 35., nan, 37., nan, 39., nan],\n",
              "       [41., nan, 43., nan, 45., nan, 47., nan],\n",
              "       [49., nan, 51., nan, 53., nan, 55., nan],\n",
              "       [57., nan, 59., nan, 61., nan, 63., nan]])"
            ]
          },
          "metadata": {},
          "execution_count": 111
        }
      ]
    },
    {
      "cell_type": "markdown",
      "source": [
        "#Zadanie 5\n",
        "Dla tablicy no_even_small_one policz funkcjami uwzględniającymi wartości nan (zazwyczaj posiadają przedrostek nan):\n",
        "\n",
        "-sumę dla każdego wiersza,\n",
        "\n",
        "-średnią dla każdej kolumny,\n",
        "\n",
        "-wartość najmniejszą w całej tablicy,"
      ],
      "metadata": {
        "id": "pQzewtfSLP_5"
      }
    },
    {
      "cell_type": "code",
      "source": [
        "print(f'Suma dla każdego wiersza: {np.nansum(no_even_small_one, axis=1)}')\n",
        "print(f'Średnia dla każdej kolumny: {no_even_small_one.mean(axis=0)}')"
      ],
      "metadata": {
        "id": "G4tSBiJiLV12",
        "colab": {
          "base_uri": "https://localhost:8080/"
        },
        "outputId": "2743ddb2-f8e8-4d2c-f19f-a88439acf2a4"
      },
      "execution_count": 112,
      "outputs": [
        {
          "output_type": "stream",
          "name": "stdout",
          "text": [
            "Suma dla każdego wiersza: [ 16.  48.  80. 112. 144. 176. 208. 240.]\n",
            "Średnia dla każdej kolumny: [29. nan 31. nan 33. nan 35. nan]\n"
          ]
        }
      ]
    },
    {
      "cell_type": "markdown",
      "source": [
        "#Zadanie 6\n",
        "Do tablicy no_even_small_one wstaw za pomocą funkcji np.where:\n",
        "\n",
        "-wartości 1 dla każdej wartości np.nan (zobacz wbudowaną funkcję np.isnan())\n",
        "\n",
        "-liczby parzyste, które wcześniej zastąpiliśmy wartościami nan (teraz 1 jeżeli wykonany jest podpunkt pierwszy), więc przywracamy ten tablicy wygląd oryginalny z tablicy a_small_one - dla warunku wstawiaj wartość z a_small_one lub no_even_small_one"
      ],
      "metadata": {
        "id": "ZKdhJX-0LWX-"
      }
    },
    {
      "cell_type": "code",
      "source": [
        "no_even_small_one = np.where(np.isnan(no_even_small_one), 1, no_even_small_one)\n",
        "no_even_small_one\n"
      ],
      "metadata": {
        "id": "6c9_RrXTLdMs",
        "colab": {
          "base_uri": "https://localhost:8080/"
        },
        "outputId": "277d4549-20f0-4c92-8af6-9cf5c823ef10"
      },
      "execution_count": 113,
      "outputs": [
        {
          "output_type": "execute_result",
          "data": {
            "text/plain": [
              "array([[ 1.,  1.,  3.,  1.,  5.,  1.,  7.,  1.],\n",
              "       [ 9.,  1., 11.,  1., 13.,  1., 15.,  1.],\n",
              "       [17.,  1., 19.,  1., 21.,  1., 23.,  1.],\n",
              "       [25.,  1., 27.,  1., 29.,  1., 31.,  1.],\n",
              "       [33.,  1., 35.,  1., 37.,  1., 39.,  1.],\n",
              "       [41.,  1., 43.,  1., 45.,  1., 47.,  1.],\n",
              "       [49.,  1., 51.,  1., 53.,  1., 55.,  1.],\n",
              "       [57.,  1., 59.,  1., 61.,  1., 63.,  1.]])"
            ]
          },
          "metadata": {},
          "execution_count": 113
        }
      ]
    },
    {
      "cell_type": "code",
      "source": [
        "no_even_small_one = np.where(no_even_small_one == 1, a_small_one, no_even_small_one)\n",
        "no_even_small_one"
      ],
      "metadata": {
        "colab": {
          "base_uri": "https://localhost:8080/"
        },
        "id": "7o_wHsgyzY9H",
        "outputId": "8fb337cf-dae7-43a3-8ca2-e8d6a2dd860e"
      },
      "execution_count": 114,
      "outputs": [
        {
          "output_type": "execute_result",
          "data": {
            "text/plain": [
              "array([[ 1.,  2.,  3.,  4.,  5.,  6.,  7.,  8.],\n",
              "       [ 9., 10., 11., 12., 13., 14., 15., 16.],\n",
              "       [17., 18., 19., 20., 21., 22., 23., 24.],\n",
              "       [25., 26., 27., 28., 29., 30., 31., 32.],\n",
              "       [33., 34., 35., 36., 37., 38., 39., 40.],\n",
              "       [41., 42., 43., 44., 45., 46., 47., 48.],\n",
              "       [49., 50., 51., 52., 53., 54., 55., 56.],\n",
              "       [57., 58., 59., 60., 61., 62., 63., 64.]])"
            ]
          },
          "metadata": {},
          "execution_count": 114
        }
      ]
    },
    {
      "cell_type": "markdown",
      "source": [
        "#Zadanie 7\n",
        "Stwórz tablicę o nazwie sto_by_sto o wymiarach 100x100 próbkując wartości z rozkładu normalnego standardowego."
      ],
      "metadata": {
        "id": "zHMWjQ-HLdZ7"
      }
    },
    {
      "cell_type": "code",
      "source": [
        "rng = np.random.default_rng()\n",
        "sto_by_sto = rng.standard_normal((100, 100))\n",
        "sto_by_sto"
      ],
      "metadata": {
        "id": "0c0TedY6LhCy",
        "colab": {
          "base_uri": "https://localhost:8080/"
        },
        "outputId": "f8bab95c-1890-4546-8cc4-18cc90a49ef4"
      },
      "execution_count": 115,
      "outputs": [
        {
          "output_type": "execute_result",
          "data": {
            "text/plain": [
              "array([[-8.91097531e-02, -5.22283306e-01, -3.09352466e-01, ...,\n",
              "        -4.51462123e-03, -5.90449483e-01, -9.00432515e-01],\n",
              "       [ 1.63474450e+00, -1.53013392e+00, -2.57563747e-03, ...,\n",
              "        -6.52623738e-01,  1.11108103e+00,  4.70667739e-01],\n",
              "       [-5.99228280e-01, -4.32606315e-01, -2.89936396e+00, ...,\n",
              "        -6.85146533e-01, -1.26045885e+00,  4.13018968e-01],\n",
              "       ...,\n",
              "       [ 7.72524928e-01,  6.61918500e-01,  1.54123717e+00, ...,\n",
              "         5.98021861e-01,  4.10850209e-01,  5.66890796e-01],\n",
              "       [ 7.10686261e-01, -6.34454993e-01,  1.85542241e+00, ...,\n",
              "         7.07435412e-01, -1.93920408e+00, -5.97895934e-01],\n",
              "       [ 5.65288871e-01, -3.40444124e-02, -1.85543126e-02, ...,\n",
              "        -6.96898105e-01,  2.25916483e+00,  6.40529813e-01]])"
            ]
          },
          "metadata": {},
          "execution_count": 115
        }
      ]
    },
    {
      "cell_type": "markdown",
      "source": [
        "#Zadanie 8\n",
        "Dla tablicy sto_by_sto policz:\n",
        "\n",
        "-wartość średnią w każdym wierszu i kolumnie (oddzielnie),\n",
        "\n",
        "-policz średnią różnicę bezwzględną dla wartości w powyższym punkcie względem wartości 0 (oddzielnie dla średniej z kolumn i średniej z wierszy, pamiętam o tym, że operacje na tablicy numpy wykonywane są w trybie broadcast)."
      ],
      "metadata": {
        "id": "IGrx74N2LjhK"
      }
    },
    {
      "cell_type": "code",
      "source": [
        "column = sto_by_sto.mean(axis=0)\n",
        "row = sto_by_sto.mean(axis=1)\n",
        "print(f'Wartość średnia w kolumnie:\\n{column}')\n",
        "print(f'\\nWartość średnia w wierszu:\\n{row}')"
      ],
      "metadata": {
        "id": "xKgwjaCALpMb",
        "colab": {
          "base_uri": "https://localhost:8080/"
        },
        "outputId": "e99a5fc2-8720-4cb8-8980-e2dc425daeb6"
      },
      "execution_count": 116,
      "outputs": [
        {
          "output_type": "stream",
          "name": "stdout",
          "text": [
            "Wartość średnia w kolumnie:\n",
            "[-0.13407962 -0.22648151 -0.11913857  0.13150115  0.02450906  0.09321839\n",
            " -0.03849718 -0.07570223  0.06602505 -0.00615295 -0.03553382  0.03872624\n",
            "  0.10994744  0.0387245  -0.03542836  0.00767016 -0.05263123  0.09759342\n",
            " -0.07180802 -0.10354682  0.14500856  0.01628029  0.06032142 -0.08086708\n",
            "  0.06704357  0.07541058 -0.07282473 -0.01160145  0.01520862 -0.06884121\n",
            "  0.07488904  0.13198913 -0.02929146 -0.09631029 -0.02426375  0.10217876\n",
            "  0.03069017 -0.18312773  0.0186569  -0.03506021 -0.097415    0.1158761\n",
            " -0.0084042   0.04301213 -0.11913187  0.11030028 -0.06943758 -0.18668877\n",
            " -0.04237221  0.10336027  0.05699937  0.08293903 -0.0301017  -0.18632166\n",
            " -0.07383076  0.0863907   0.07479606 -0.00036092  0.03374084 -0.09934128\n",
            " -0.04898754 -0.12150227  0.062566    0.04329401  0.08754813 -0.09873954\n",
            "  0.08590557  0.07216791 -0.01378303 -0.01611394  0.02068277  0.01750457\n",
            "  0.08728649 -0.07250289  0.19885397 -0.01259987 -0.03632993 -0.03478768\n",
            " -0.01499104 -0.06066309  0.06656995  0.04044611 -0.01505621  0.16992796\n",
            " -0.04528696 -0.02377475  0.08939082  0.05119538  0.01441251  0.02703011\n",
            " -0.09069864  0.10553668  0.17186968  0.05358942 -0.11706245 -0.02069758\n",
            " -0.02668606  0.03942582 -0.13120865 -0.12554521]\n",
            "\n",
            "Wartość średnia w wierszu:\n",
            "[-0.0397344  -0.06665497  0.04624898 -0.04856785  0.07798711 -0.0869671\n",
            " -0.13698102 -0.03897532  0.02437492 -0.15604482 -0.10393247 -0.05417156\n",
            " -0.00741637  0.06065578 -0.18896606 -0.11229873  0.11499335 -0.10184124\n",
            " -0.01978871  0.01062842 -0.02472598 -0.10262791  0.06472093  0.13182674\n",
            " -0.0142386  -0.03737866 -0.06825681  0.10407394  0.02862946 -0.00631435\n",
            "  0.13085518  0.02841508 -0.13741983 -0.0969487   0.06184647 -0.03565482\n",
            "  0.11678666  0.12980067  0.252813   -0.06475733 -0.00591145  0.09016896\n",
            " -0.35555863  0.06762492 -0.02470903  0.13551726  0.02271009 -0.04277057\n",
            " -0.14198938 -0.10605467 -0.00480184 -0.13372389 -0.06644057  0.10478236\n",
            " -0.0310297  -0.23732154 -0.05968416 -0.05583381  0.16514816 -0.00363884\n",
            "  0.02321114  0.13369551  0.11780914 -0.11409532 -0.06745338 -0.15914795\n",
            "  0.01018087  0.16970714  0.01993745 -0.01089671  0.0466067  -0.01203386\n",
            " -0.0521954  -0.02738479 -0.03289901 -0.05355023  0.09263291 -0.00279551\n",
            "  0.04791647  0.13114798  0.11793281  0.00682367  0.0591751   0.03736898\n",
            "  0.03949009  0.09735108  0.00218195 -0.00600209  0.03938617  0.12745928\n",
            "  0.13672036 -0.02047934  0.02625685 -0.15508076 -0.03780111  0.0418076\n",
            "  0.05677751  0.06025059  0.17674109 -0.00063016]\n"
          ]
        }
      ]
    },
    {
      "cell_type": "code",
      "source": [
        "print(f'Średnia różnica bezwzględna dla wartości w powyższym punkcie względem wartości 0 dla kolumn:\\n{np.abs(column)}')\n",
        "print(f'\\nŚrednia różnica bezwzględna dla wartości w powyższym punkcie względem wartości 0 dla wierszy:\\n{np.abs(row)}')"
      ],
      "metadata": {
        "colab": {
          "base_uri": "https://localhost:8080/"
        },
        "id": "_hs6aVDe3bfp",
        "outputId": "9e4148d1-e279-41ab-cb00-8628792f082b"
      },
      "execution_count": 53,
      "outputs": [
        {
          "output_type": "stream",
          "name": "stdout",
          "text": [
            "Średnia różnica bezwzględna dla wartości w powyższym punkcie względem wartości 0 dla kolumn:\n",
            "[0.01798563 0.00905684 0.05508835 0.13489435 0.16743041 0.00670709\n",
            " 0.10392527 0.02795648 0.06223816 0.10768427 0.08199684 0.02995896\n",
            " 0.13449349 0.1248202  0.15046863 0.19428301 0.25231592 0.14082274\n",
            " 0.04513117 0.10017683 0.09536335 0.08122922 0.11509521 0.08460661\n",
            " 0.05003588 0.12263445 0.01281239 0.02888004 0.04343731 0.034188\n",
            " 0.06047358 0.01943138 0.06114515 0.20685062 0.18379009 0.13662038\n",
            " 0.15574299 0.05770671 0.03892688 0.04178319 0.06403225 0.13731471\n",
            " 0.00496088 0.0593023  0.01034116 0.07359287 0.00541701 0.06242862\n",
            " 0.07072178 0.0888144  0.13581447 0.06281958 0.0597149  0.051296\n",
            " 0.0263889  0.04893924 0.00569734 0.10006558 0.02335679 0.05188747\n",
            " 0.02647336 0.09767927 0.07162116 0.03060639 0.07761589 0.01053342\n",
            " 0.02004872 0.31498954 0.01698866 0.07844758 0.03156467 0.01326749\n",
            " 0.06127015 0.0627252  0.087085   0.09614101 0.12006714 0.00689824\n",
            " 0.05658435 0.07910408 0.08372352 0.18677036 0.07694336 0.11043661\n",
            " 0.09112695 0.00036128 0.06684259 0.03235774 0.1674164  0.0539463\n",
            " 0.05732915 0.18598717 0.04008024 0.01970399 0.02196053 0.10252088\n",
            " 0.00322329 0.05205286 0.09576499 0.03005692]\n",
            "\n",
            "Średnia różnica bezwzględna dla wartości w powyższym punkcie względem wartości 0 dla wierszy:\n",
            "[0.00842806 0.06732291 0.03329643 0.24305496 0.06871415 0.11497415\n",
            " 0.00472407 0.04857541 0.12526433 0.02531613 0.0160171  0.03093077\n",
            " 0.04884662 0.00151384 0.07912452 0.04418925 0.0508588  0.04679943\n",
            " 0.05311312 0.11939141 0.03550421 0.00548612 0.1984114  0.12941215\n",
            " 0.01199574 0.24318548 0.02237549 0.12760854 0.14722202 0.07913881\n",
            " 0.14698187 0.12982567 0.04893236 0.04090998 0.04798915 0.21211469\n",
            " 0.03156594 0.13710421 0.02314404 0.08313663 0.065867   0.07337977\n",
            " 0.02182837 0.20574894 0.12544281 0.05953375 0.08312476 0.01424367\n",
            " 0.02062299 0.27598473 0.13376997 0.13760989 0.11860884 0.0038952\n",
            " 0.04495576 0.03533953 0.12106873 0.00743329 0.14067565 0.19886972\n",
            " 0.09986818 0.11154866 0.07137261 0.13429864 0.0199694  0.08957317\n",
            " 0.00617608 0.13527624 0.23648138 0.17758242 0.13899539 0.12194358\n",
            " 0.02673055 0.01200088 0.16663818 0.20086513 0.05087978 0.00661747\n",
            " 0.15665599 0.06838398 0.10213244 0.06865078 0.12668114 0.03252439\n",
            " 0.00649609 0.05065581 0.0270527  0.00332085 0.012334   0.13858419\n",
            " 0.09540593 0.02817869 0.18329258 0.06954987 0.09697551 0.09158738\n",
            " 0.03480075 0.01222158 0.03309436 0.06499208]\n"
          ]
        }
      ]
    },
    {
      "cell_type": "markdown",
      "source": [
        "#Zadanie 9\n",
        "Stwórz tablicę o wymiarach 1000x1000 uzupełniając ją wartościami losowymi z rozkładu normalnego standardowego, a następnie posiłkując się przykładami z labów poprzednich (moduł timeit) porównaj czasy wykonania dla tej tablicy:\n",
        "\n",
        "-zapisu do pliku tekstowego vs. zapis do pliku w formacie picle vs. zapis do pliku skompresowanego (funkcja savez_compressed w dokumentacji biblioteki numpy)\n",
        "\n",
        "-odczytu dla trzech wyżej wymienionych plików."
      ],
      "metadata": {
        "id": "bq9jx8HKLpvk"
      }
    },
    {
      "cell_type": "code",
      "source": [
        "from timeit import timeit\n",
        "\n",
        "arr = rng.standard_normal((1000, 1000))"
      ],
      "metadata": {
        "id": "DPE51IsT15ms"
      },
      "execution_count": 79,
      "outputs": []
    },
    {
      "cell_type": "code",
      "source": [
        "stmt1 = '''np.savetxt('arr.txt', arr)'''\n",
        "stmt2 = '''pickle.dump(arr, open('arr.pkl', 'wb'))'''\n",
        "stmt3 = '''np.savez_compressed('arr.npz', arr)'''\n",
        "\n",
        "setup1 = '''\n",
        "import numpy as np\n",
        "import pickle\n",
        "rng = np.random.default_rng()\n",
        "arr = rng.standard_normal((1000, 1000))\n",
        "'''"
      ],
      "metadata": {
        "id": "shmTV6ag4Yly"
      },
      "execution_count": 92,
      "outputs": []
    },
    {
      "cell_type": "code",
      "source": [
        "timeit(stmt = stmt1, setup = setup1, number = 10), timeit(stmt = stmt2, setup = setup1, number = 10), timeit(stmt = stmt3, setup = setup1, number = 10)"
      ],
      "metadata": {
        "colab": {
          "base_uri": "https://localhost:8080/"
        },
        "id": "SJPuE9bq89Sx",
        "outputId": "9278fe74-6eea-4380-fbea-ca5460b256ea"
      },
      "execution_count": 94,
      "outputs": [
        {
          "output_type": "execute_result",
          "data": {
            "text/plain": [
              "(9.65091460000076, 0.16326805599965155, 5.3408976970004005)"
            ]
          },
          "metadata": {},
          "execution_count": 94
        }
      ]
    },
    {
      "cell_type": "code",
      "source": [
        "stmt4 = '''np.loadtxt('arr.txt')'''\n",
        "stmt5 = '''with open('arr.pkl', 'rb') as f:\n",
        "          arr = pickle.load(f)'''\n",
        "stmt6 = '''np.load('arr.npz')'''"
      ],
      "metadata": {
        "id": "p3pSfiBc8-KT"
      },
      "execution_count": 105,
      "outputs": []
    },
    {
      "cell_type": "code",
      "source": [
        "timeit(stmt = stmt4, setup = setup1, number = 1), timeit(stmt = stmt5, setup = setup1, number = 1), timeit(stmt = stmt6, setup = setup1, number = 1)"
      ],
      "metadata": {
        "colab": {
          "base_uri": "https://localhost:8080/"
        },
        "id": "SFGGM3bK9t9m",
        "outputId": "1d617029-b34c-4e59-b5e6-4a6c3c19e89d"
      },
      "execution_count": 104,
      "outputs": [
        {
          "output_type": "execute_result",
          "data": {
            "text/plain": [
              "(0.5074495749995549, 0.0032194920004258165, 0.0028814449997298652)"
            ]
          },
          "metadata": {},
          "execution_count": 104
        }
      ]
    }
  ]
}