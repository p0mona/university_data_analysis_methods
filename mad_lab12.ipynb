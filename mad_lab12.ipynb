{
 "cells": [
  {
   "metadata": {
    "ExecuteTime": {
     "end_time": "2025-05-23T18:49:13.503987Z",
     "start_time": "2025-05-23T18:49:13.486445Z"
    }
   },
   "cell_type": "code",
   "source": [
    "import seaborn as sns\n",
    "import numpy as np\n",
    "import pandas as pd\n",
    "import matplotlib.pyplot as plt\n",
    "from sklearn.model_selection import train_test_split\n",
    "from sklearn.linear_model import LinearRegression\n",
    "from sklearn.metrics import mean_absolute_error, mean_squared_error, r2_score\n",
    "from sklearn.preprocessing import PolynomialFeatures\n",
    "from sklearn.pipeline import make_pipeline"
   ],
   "id": "80a78b6de1372d7e",
   "outputs": [],
   "execution_count": 22
  },
  {
   "metadata": {
    "ExecuteTime": {
     "end_time": "2025-05-23T18:46:43.592868Z",
     "start_time": "2025-05-23T18:46:43.565396Z"
    }
   },
   "cell_type": "code",
   "source": "otodf = pd.read_csv('/Users/polinabezukladnova/Downloads/Otodom_Flat_Listings.csv')",
   "id": "d12bad85227cc7e5",
   "outputs": [],
   "execution_count": 4
  },
  {
   "metadata": {
    "ExecuteTime": {
     "end_time": "2025-05-23T18:46:44.959263Z",
     "start_time": "2025-05-23T18:46:44.946010Z"
    }
   },
   "cell_type": "code",
   "source": "otodf.head()",
   "id": "ee554667293ab348",
   "outputs": [
    {
     "data": {
      "text/plain": [
       "                                               Title      Price  \\\n",
       "0     2 pokoje 47m2 po remoncie + garderoba + balkon   415000.0   \n",
       "1  Właściciel- Ludwiki DD - WIDOK NA ZIELEŃ - 2x gar  2499000.0   \n",
       "2     Sprzedam mieszkanie 60m2, 2 balkony, garderoba   649000.0   \n",
       "3             Wyjątkowy, duży apartament z antresolą  2108000.0   \n",
       "4  2/3-pok. 49,2 m2 w samym sercu Koszalina - Kuncer   450180.0   \n",
       "\n",
       "                                            Location  Surface Number_of_Rooms  \\\n",
       "0  ul. Marysińska, Stare Bałuty, Bałuty, Łódź, łó...     47.0              2    \n",
       "1   ul. Ludwiki, Czyste, Wola, Warszawa, mazowieckie    105.0              4    \n",
       "2       ul. Londyńska, Gorzów Wielkopolski, lubuskie     60.0              3    \n",
       "3  Mrzeżyno, Trzebiatów, gryficki, zachodniopomor...     78.3              3    \n",
       "4  ul. Bartosza Głowackiego, Koszalin, zachodniop...     49.2              2    \n",
       "\n",
       "  Floor Finishing_Condition   Heating             Parking_Space  \\\n",
       "0   NaN     do zamieszkania  miejskie  garaż/miejsce parkingowe   \n",
       "1   2/8      do wykończenia  miejskie  garaż/miejsce parkingowe   \n",
       "2   4/4     do zamieszkania  miejskie                       NaN   \n",
       "3   4/4      do wykończenia       NaN  garaż/miejsce parkingowe   \n",
       "4   2/3     do zamieszkania  miejskie  garaż/miejsce parkingowe   \n",
       "\n",
       "  Balcony_Garden_Terrace                                               Link  \\\n",
       "0                 balkon  https://www.otodom.pl/pl/oferta/2-pokoje-47m2-...   \n",
       "1                 balkon  https://www.otodom.pl/pl/oferta/wlasciciel-lud...   \n",
       "2          balkon, taras  https://www.otodom.pl/pl/oferta/sprzedam-miesz...   \n",
       "3                    NaN  https://www.otodom.pl/pl/oferta/wyjatkowy-duzy...   \n",
       "4                 balkon  https://www.otodom.pl/pl/oferta/2-3-pok-49-2-m...   \n",
       "\n",
       "          Voivodeship                 City  \n",
       "0             Łódzkie                 Łódź  \n",
       "1         Mazowieckie             Warszawa  \n",
       "2            Lubuskie  Gorzów Wielkopolski  \n",
       "3  Zachodniopomorskie             gryficki  \n",
       "4  Zachodniopomorskie             Koszalin  "
      ],
      "text/html": [
       "<div>\n",
       "<style scoped>\n",
       "    .dataframe tbody tr th:only-of-type {\n",
       "        vertical-align: middle;\n",
       "    }\n",
       "\n",
       "    .dataframe tbody tr th {\n",
       "        vertical-align: top;\n",
       "    }\n",
       "\n",
       "    .dataframe thead th {\n",
       "        text-align: right;\n",
       "    }\n",
       "</style>\n",
       "<table border=\"1\" class=\"dataframe\">\n",
       "  <thead>\n",
       "    <tr style=\"text-align: right;\">\n",
       "      <th></th>\n",
       "      <th>Title</th>\n",
       "      <th>Price</th>\n",
       "      <th>Location</th>\n",
       "      <th>Surface</th>\n",
       "      <th>Number_of_Rooms</th>\n",
       "      <th>Floor</th>\n",
       "      <th>Finishing_Condition</th>\n",
       "      <th>Heating</th>\n",
       "      <th>Parking_Space</th>\n",
       "      <th>Balcony_Garden_Terrace</th>\n",
       "      <th>Link</th>\n",
       "      <th>Voivodeship</th>\n",
       "      <th>City</th>\n",
       "    </tr>\n",
       "  </thead>\n",
       "  <tbody>\n",
       "    <tr>\n",
       "      <th>0</th>\n",
       "      <td>2 pokoje 47m2 po remoncie + garderoba + balkon</td>\n",
       "      <td>415000.0</td>\n",
       "      <td>ul. Marysińska, Stare Bałuty, Bałuty, Łódź, łó...</td>\n",
       "      <td>47.0</td>\n",
       "      <td>2</td>\n",
       "      <td>NaN</td>\n",
       "      <td>do zamieszkania</td>\n",
       "      <td>miejskie</td>\n",
       "      <td>garaż/miejsce parkingowe</td>\n",
       "      <td>balkon</td>\n",
       "      <td>https://www.otodom.pl/pl/oferta/2-pokoje-47m2-...</td>\n",
       "      <td>Łódzkie</td>\n",
       "      <td>Łódź</td>\n",
       "    </tr>\n",
       "    <tr>\n",
       "      <th>1</th>\n",
       "      <td>Właściciel- Ludwiki DD - WIDOK NA ZIELEŃ - 2x gar</td>\n",
       "      <td>2499000.0</td>\n",
       "      <td>ul. Ludwiki, Czyste, Wola, Warszawa, mazowieckie</td>\n",
       "      <td>105.0</td>\n",
       "      <td>4</td>\n",
       "      <td>2/8</td>\n",
       "      <td>do wykończenia</td>\n",
       "      <td>miejskie</td>\n",
       "      <td>garaż/miejsce parkingowe</td>\n",
       "      <td>balkon</td>\n",
       "      <td>https://www.otodom.pl/pl/oferta/wlasciciel-lud...</td>\n",
       "      <td>Mazowieckie</td>\n",
       "      <td>Warszawa</td>\n",
       "    </tr>\n",
       "    <tr>\n",
       "      <th>2</th>\n",
       "      <td>Sprzedam mieszkanie 60m2, 2 balkony, garderoba</td>\n",
       "      <td>649000.0</td>\n",
       "      <td>ul. Londyńska, Gorzów Wielkopolski, lubuskie</td>\n",
       "      <td>60.0</td>\n",
       "      <td>3</td>\n",
       "      <td>4/4</td>\n",
       "      <td>do zamieszkania</td>\n",
       "      <td>miejskie</td>\n",
       "      <td>NaN</td>\n",
       "      <td>balkon, taras</td>\n",
       "      <td>https://www.otodom.pl/pl/oferta/sprzedam-miesz...</td>\n",
       "      <td>Lubuskie</td>\n",
       "      <td>Gorzów Wielkopolski</td>\n",
       "    </tr>\n",
       "    <tr>\n",
       "      <th>3</th>\n",
       "      <td>Wyjątkowy, duży apartament z antresolą</td>\n",
       "      <td>2108000.0</td>\n",
       "      <td>Mrzeżyno, Trzebiatów, gryficki, zachodniopomor...</td>\n",
       "      <td>78.3</td>\n",
       "      <td>3</td>\n",
       "      <td>4/4</td>\n",
       "      <td>do wykończenia</td>\n",
       "      <td>NaN</td>\n",
       "      <td>garaż/miejsce parkingowe</td>\n",
       "      <td>NaN</td>\n",
       "      <td>https://www.otodom.pl/pl/oferta/wyjatkowy-duzy...</td>\n",
       "      <td>Zachodniopomorskie</td>\n",
       "      <td>gryficki</td>\n",
       "    </tr>\n",
       "    <tr>\n",
       "      <th>4</th>\n",
       "      <td>2/3-pok. 49,2 m2 w samym sercu Koszalina - Kuncer</td>\n",
       "      <td>450180.0</td>\n",
       "      <td>ul. Bartosza Głowackiego, Koszalin, zachodniop...</td>\n",
       "      <td>49.2</td>\n",
       "      <td>2</td>\n",
       "      <td>2/3</td>\n",
       "      <td>do zamieszkania</td>\n",
       "      <td>miejskie</td>\n",
       "      <td>garaż/miejsce parkingowe</td>\n",
       "      <td>balkon</td>\n",
       "      <td>https://www.otodom.pl/pl/oferta/2-3-pok-49-2-m...</td>\n",
       "      <td>Zachodniopomorskie</td>\n",
       "      <td>Koszalin</td>\n",
       "    </tr>\n",
       "  </tbody>\n",
       "</table>\n",
       "</div>"
      ]
     },
     "execution_count": 5,
     "metadata": {},
     "output_type": "execute_result"
    }
   ],
   "execution_count": 5
  },
  {
   "metadata": {
    "ExecuteTime": {
     "end_time": "2025-05-23T18:46:47.718052Z",
     "start_time": "2025-05-23T18:46:47.714722Z"
    }
   },
   "cell_type": "code",
   "source": "otodf.isna().sum()",
   "id": "5bf72c3d422020df",
   "outputs": [
    {
     "data": {
      "text/plain": [
       "Title                        0\n",
       "Price                      143\n",
       "Location                     1\n",
       "Surface                      0\n",
       "Number_of_Rooms              0\n",
       "Floor                       64\n",
       "Finishing_Condition        578\n",
       "Heating                    747\n",
       "Parking_Space             1329\n",
       "Balcony_Garden_Terrace     705\n",
       "Link                         0\n",
       "Voivodeship                  1\n",
       "City                         1\n",
       "dtype: int64"
      ]
     },
     "execution_count": 7,
     "metadata": {},
     "output_type": "execute_result"
    }
   ],
   "execution_count": 7
  },
  {
   "metadata": {
    "ExecuteTime": {
     "end_time": "2025-05-23T18:46:48.350277Z",
     "start_time": "2025-05-23T18:46:48.337452Z"
    }
   },
   "cell_type": "code",
   "source": [
    "otodf_1 = otodf[['Surface', 'Price']]\n",
    "otodf_1 = otodf_1.dropna()\n",
    "otodf_1"
   ],
   "id": "7fd9e485ed6b18eb",
   "outputs": [
    {
     "data": {
      "text/plain": [
       "      Surface      Price\n",
       "0       47.00   415000.0\n",
       "1      105.00  2499000.0\n",
       "2       60.00   649000.0\n",
       "3       78.30  2108000.0\n",
       "4       49.20   450180.0\n",
       "...       ...        ...\n",
       "2802    34.00   525000.0\n",
       "2803    61.18   829000.0\n",
       "2804    50.00   830000.0\n",
       "2805    66.47   699000.0\n",
       "2806    66.00  1450000.0\n",
       "\n",
       "[2664 rows x 2 columns]"
      ],
      "text/html": [
       "<div>\n",
       "<style scoped>\n",
       "    .dataframe tbody tr th:only-of-type {\n",
       "        vertical-align: middle;\n",
       "    }\n",
       "\n",
       "    .dataframe tbody tr th {\n",
       "        vertical-align: top;\n",
       "    }\n",
       "\n",
       "    .dataframe thead th {\n",
       "        text-align: right;\n",
       "    }\n",
       "</style>\n",
       "<table border=\"1\" class=\"dataframe\">\n",
       "  <thead>\n",
       "    <tr style=\"text-align: right;\">\n",
       "      <th></th>\n",
       "      <th>Surface</th>\n",
       "      <th>Price</th>\n",
       "    </tr>\n",
       "  </thead>\n",
       "  <tbody>\n",
       "    <tr>\n",
       "      <th>0</th>\n",
       "      <td>47.00</td>\n",
       "      <td>415000.0</td>\n",
       "    </tr>\n",
       "    <tr>\n",
       "      <th>1</th>\n",
       "      <td>105.00</td>\n",
       "      <td>2499000.0</td>\n",
       "    </tr>\n",
       "    <tr>\n",
       "      <th>2</th>\n",
       "      <td>60.00</td>\n",
       "      <td>649000.0</td>\n",
       "    </tr>\n",
       "    <tr>\n",
       "      <th>3</th>\n",
       "      <td>78.30</td>\n",
       "      <td>2108000.0</td>\n",
       "    </tr>\n",
       "    <tr>\n",
       "      <th>4</th>\n",
       "      <td>49.20</td>\n",
       "      <td>450180.0</td>\n",
       "    </tr>\n",
       "    <tr>\n",
       "      <th>...</th>\n",
       "      <td>...</td>\n",
       "      <td>...</td>\n",
       "    </tr>\n",
       "    <tr>\n",
       "      <th>2802</th>\n",
       "      <td>34.00</td>\n",
       "      <td>525000.0</td>\n",
       "    </tr>\n",
       "    <tr>\n",
       "      <th>2803</th>\n",
       "      <td>61.18</td>\n",
       "      <td>829000.0</td>\n",
       "    </tr>\n",
       "    <tr>\n",
       "      <th>2804</th>\n",
       "      <td>50.00</td>\n",
       "      <td>830000.0</td>\n",
       "    </tr>\n",
       "    <tr>\n",
       "      <th>2805</th>\n",
       "      <td>66.47</td>\n",
       "      <td>699000.0</td>\n",
       "    </tr>\n",
       "    <tr>\n",
       "      <th>2806</th>\n",
       "      <td>66.00</td>\n",
       "      <td>1450000.0</td>\n",
       "    </tr>\n",
       "  </tbody>\n",
       "</table>\n",
       "<p>2664 rows × 2 columns</p>\n",
       "</div>"
      ]
     },
     "execution_count": 8,
     "metadata": {},
     "output_type": "execute_result"
    }
   ],
   "execution_count": 8
  },
  {
   "metadata": {
    "ExecuteTime": {
     "end_time": "2025-05-23T18:46:48.900546Z",
     "start_time": "2025-05-23T18:46:48.801768Z"
    }
   },
   "cell_type": "code",
   "source": [
    "corr = otodf_1.corr()\n",
    "sns.heatmap(corr, annot=True, cmap='YlGnBu')"
   ],
   "id": "ac3c5d8ff1c46df1",
   "outputs": [
    {
     "data": {
      "text/plain": [
       "<Axes: >"
      ]
     },
     "execution_count": 9,
     "metadata": {},
     "output_type": "execute_result"
    },
    {
     "data": {
      "text/plain": [
       "<Figure size 640x480 with 2 Axes>"
      ],
      "image/png": "[encoded data removed]"
     },
     "metadata": {},
     "output_type": "display_data"
    }
   ],
   "execution_count": 9
  },
  {
   "metadata": {
    "ExecuteTime": {
     "end_time": "2025-05-23T18:46:49.270525Z",
     "start_time": "2025-05-23T18:46:49.264181Z"
    }
   },
   "cell_type": "code",
   "source": [
    "pd.options.display.float_format = '{:.3f}'.format\n",
    "otodf_1.describe()"
   ],
   "id": "f3f8652b7cbb6cf5",
   "outputs": [
    {
     "data": {
      "text/plain": [
       "       Surface         Price\n",
       "count 2664.000      2664.000\n",
       "mean    61.561   1568792.503\n",
       "std     84.643   7945282.597\n",
       "min      1.000     44444.000\n",
       "25%     43.000    395000.000\n",
       "50%     54.400    573000.000\n",
       "75%     69.000    780000.000\n",
       "max   3800.000 162499380.000"
      ],
      "text/html": [
       "<div>\n",
       "<style scoped>\n",
       "    .dataframe tbody tr th:only-of-type {\n",
       "        vertical-align: middle;\n",
       "    }\n",
       "\n",
       "    .dataframe tbody tr th {\n",
       "        vertical-align: top;\n",
       "    }\n",
       "\n",
       "    .dataframe thead th {\n",
       "        text-align: right;\n",
       "    }\n",
       "</style>\n",
       "<table border=\"1\" class=\"dataframe\">\n",
       "  <thead>\n",
       "    <tr style=\"text-align: right;\">\n",
       "      <th></th>\n",
       "      <th>Surface</th>\n",
       "      <th>Price</th>\n",
       "    </tr>\n",
       "  </thead>\n",
       "  <tbody>\n",
       "    <tr>\n",
       "      <th>count</th>\n",
       "      <td>2664.000</td>\n",
       "      <td>2664.000</td>\n",
       "    </tr>\n",
       "    <tr>\n",
       "      <th>mean</th>\n",
       "      <td>61.561</td>\n",
       "      <td>1568792.503</td>\n",
       "    </tr>\n",
       "    <tr>\n",
       "      <th>std</th>\n",
       "      <td>84.643</td>\n",
       "      <td>7945282.597</td>\n",
       "    </tr>\n",
       "    <tr>\n",
       "      <th>min</th>\n",
       "      <td>1.000</td>\n",
       "      <td>44444.000</td>\n",
       "    </tr>\n",
       "    <tr>\n",
       "      <th>25%</th>\n",
       "      <td>43.000</td>\n",
       "      <td>395000.000</td>\n",
       "    </tr>\n",
       "    <tr>\n",
       "      <th>50%</th>\n",
       "      <td>54.400</td>\n",
       "      <td>573000.000</td>\n",
       "    </tr>\n",
       "    <tr>\n",
       "      <th>75%</th>\n",
       "      <td>69.000</td>\n",
       "      <td>780000.000</td>\n",
       "    </tr>\n",
       "    <tr>\n",
       "      <th>max</th>\n",
       "      <td>3800.000</td>\n",
       "      <td>162499380.000</td>\n",
       "    </tr>\n",
       "  </tbody>\n",
       "</table>\n",
       "</div>"
      ]
     },
     "execution_count": 10,
     "metadata": {},
     "output_type": "execute_result"
    }
   ],
   "execution_count": 10
  },
  {
   "metadata": {
    "ExecuteTime": {
     "end_time": "2025-05-23T18:46:49.658505Z",
     "start_time": "2025-05-23T18:46:49.654041Z"
    }
   },
   "cell_type": "code",
   "source": [
    "q1 = np.percentile(otodf_1['Surface'], 25)\n",
    "q3 = np.percentile(otodf_1['Surface'], 75)\n",
    "iqr = q3 - q1\n",
    "\n",
    "lower = q1 - 1.5 * iqr\n",
    "upper = q3 + 1.5 * iqr\n",
    "\n",
    "print(f'Q1: {q1}', f'Q3: {q3}', f'IQR: {iqr}', f'Lower outlier threshold: {lower}', f'Upper outlier threshold: {upper}', sep='\\n')"
   ],
   "id": "ec640aca0396586f",
   "outputs": [
    {
     "name": "stdout",
     "output_type": "stream",
     "text": [
      "Q1: 43.0\n",
      "Q3: 69.0\n",
      "IQR: 26.0\n",
      "Lower outlier threshold: 4.0\n",
      "Upper outlier threshold: 108.0\n"
     ]
    }
   ],
   "execution_count": 11
  },
  {
   "metadata": {
    "ExecuteTime": {
     "end_time": "2025-05-23T18:46:50.084889Z",
     "start_time": "2025-05-23T18:46:50.081410Z"
    }
   },
   "cell_type": "code",
   "source": [
    "X = otodf_1['Surface']\n",
    "y = otodf_1['Price']\n",
    "X_train, X_test, y_train, y_test = train_test_split(X, y, test_size=0.25, random_state=0)"
   ],
   "id": "f5eaefbe1a6f29f1",
   "outputs": [],
   "execution_count": 12
  },
  {
   "metadata": {
    "ExecuteTime": {
     "end_time": "2025-05-23T18:46:50.442766Z",
     "start_time": "2025-05-23T18:46:50.427596Z"
    }
   },
   "cell_type": "code",
   "source": [
    "lin_reg1 = LinearRegression()\n",
    "\n",
    "lin_reg1.fit(X_train.values.reshape(-1,1), y_train)\n",
    "\n",
    "predictions1 = lin_reg1.predict(X_test.values.reshape(-1,1))\n",
    "\n",
    "print(\"Punkt przecięcia:\", lin_reg1.intercept_)\n",
    "print(\"Współczynniki:\", lin_reg1.coef_)\n",
    "print('Średni błąd bezwzględny (MAE):', mean_absolute_error(y_test, predictions1))\n",
    "print(\"Błąd średniokwadratowy (MSE):\", mean_squared_error(y_test, predictions1))\n",
    "print(\"Pierw. błędu średniokwadratowego (RMSE):\", np.sqrt(mean_squared_error(y_test, predictions1)))\n",
    "print(\"Współczynnik determinacji R-kwadrat:\", r2_score(y_test, predictions1))"
   ],
   "id": "97e4b9e67dcae5a2",
   "outputs": [
    {
     "name": "stdout",
     "output_type": "stream",
     "text": [
      "Punkt przecięcia: 1393959.888424575\n",
      "Współczynniki: [2375.36188693]\n",
      "Średni błąd bezwzględny (MAE): 1875141.1343519343\n",
      "Błąd średniokwadratowy (MSE): 81450569367726.75\n",
      "Pierw. błędu średniokwadratowego (RMSE): 9024996.917879073\n",
      "Współczynnik determinacji R-kwadrat: 0.0004911898590828079\n"
     ]
    }
   ],
   "execution_count": 13
  },
  {
   "metadata": {
    "ExecuteTime": {
     "end_time": "2025-05-23T18:46:50.832936Z",
     "start_time": "2025-05-23T18:46:50.803242Z"
    }
   },
   "cell_type": "code",
   "source": [
    "plt.scatter(X_train, y_train, color=\"black\")\n",
    "plt.plot(X_test, predictions1, color=\"red\", linewidth=3)\n",
    "\n",
    "plt.xticks(())\n",
    "plt.yticks(())\n",
    "\n",
    "plt.show()"
   ],
   "id": "8b9e80d170d95ed6",
   "outputs": [
    {
     "data": {
      "text/plain": [
       "<Figure size 640x480 with 1 Axes>"
      ],
      "image/png": "[encoded data removed]"
     },
     "metadata": {},
     "output_type": "display_data"
    }
   ],
   "execution_count": 14
  },
  {
   "metadata": {
    "ExecuteTime": {
     "end_time": "2025-05-23T18:46:51.238101Z",
     "start_time": "2025-05-23T18:46:51.234784Z"
    }
   },
   "cell_type": "code",
   "source": [
    "q1 = np.percentile(X_train, 25)\n",
    "q3 = np.percentile(X_train, 75)\n",
    "iqr = q3 - q1\n",
    "\n",
    "lower = q1 - 1.5 * iqr\n",
    "upper = q3 + 1.5 * iqr\n",
    "\n",
    "sum((X_train > upper) | (X_train < lower))"
   ],
   "id": "d3c87e90a15bca0",
   "outputs": [
    {
     "data": {
      "text/plain": [
       "105"
      ]
     },
     "execution_count": 15,
     "metadata": {},
     "output_type": "execute_result"
    }
   ],
   "execution_count": 15
  },
  {
   "metadata": {
    "ExecuteTime": {
     "end_time": "2025-05-23T18:46:52.092284Z",
     "start_time": "2025-05-23T18:46:52.089139Z"
    }
   },
   "cell_type": "code",
   "source": [
    "outliers_map = ((X_train > upper) | (X_train < lower))\n",
    "\n",
    "outliers_map = outliers_map\n",
    "X_train = X_train[~outliers_map]\n",
    "y_train = y_train[~outliers_map]"
   ],
   "id": "d225ee53a01b124e",
   "outputs": [],
   "execution_count": 16
  },
  {
   "metadata": {
    "ExecuteTime": {
     "end_time": "2025-05-23T18:46:52.751697Z",
     "start_time": "2025-05-23T18:46:52.708355Z"
    }
   },
   "cell_type": "code",
   "source": "sns.boxplot(X_train)",
   "id": "508f79ad0ab36ca8",
   "outputs": [
    {
     "data": {
      "text/plain": [
       "<Axes: ylabel='Surface'>"
      ]
     },
     "execution_count": 17,
     "metadata": {},
     "output_type": "execute_result"
    },
    {
     "data": {
      "text/plain": [
       "<Figure size 640x480 with 1 Axes>"
      ],
      "image/png": "[encoded data removed]"
     },
     "metadata": {},
     "output_type": "display_data"
    }
   ],
   "execution_count": 17
  },
  {
   "metadata": {
    "ExecuteTime": {
     "end_time": "2025-05-23T18:47:49.338862Z",
     "start_time": "2025-05-23T18:47:49.317916Z"
    }
   },
   "cell_type": "code",
   "source": [
    "lin_reg2 = LinearRegression()\n",
    "\n",
    "lin_reg2.fit(X_train.values.reshape(-1,1), y_train)\n",
    "\n",
    "predictions2 = lin_reg2.predict(X_test.values.reshape(-1,1))\n",
    "\n",
    "print(\"Punkt przecięcia:\", lin_reg2.intercept_)\n",
    "print(\"Współczynniki:\", lin_reg2.coef_)\n",
    "print('Średni błąd bezwzględny (MAE):', mean_absolute_error(y_test, predictions2))\n",
    "print(\"Błąd średniokwadratowy (MSE):\", mean_squared_error(y_test, predictions2))\n",
    "print(\"Pierw. błędu średniokwadratowego (RMSE):\", np.sqrt(mean_squared_error(y_test, predictions2)))\n",
    "print(\"Współczynnik determinacji R-kwadrat:\", r2_score(y_test, predictions2))"
   ],
   "id": "bac43a7bc8beeda1",
   "outputs": [
    {
     "name": "stdout",
     "output_type": "stream",
     "text": [
      "Punkt przecięcia: 541985.1059085284\n",
      "Współczynniki: [17715.3771551]\n",
      "Średni błąd bezwzględny (MAE): 1909086.9839112042\n",
      "Błąd średniokwadratowy (MSE): 81282213913544.39\n",
      "Pierw. błędu średniokwadratowego (RMSE): 9015664.917993814\n",
      "Współczynnik determinacji R-kwadrat: 0.0025571393177151736\n"
     ]
    }
   ],
   "execution_count": 19
  },
  {
   "metadata": {
    "ExecuteTime": {
     "end_time": "2025-05-23T18:47:51.368467Z",
     "start_time": "2025-05-23T18:47:51.341125Z"
    }
   },
   "cell_type": "code",
   "source": [
    "plt.scatter(X_train, y_train, color=\"black\")\n",
    "plt.plot(X_test, predictions2, color=\"blue\", linewidth=3)\n",
    "\n",
    "plt.xticks(())\n",
    "plt.yticks(())\n",
    "\n",
    "plt.show()"
   ],
   "id": "55fbd158cee9b68f",
   "outputs": [
    {
     "data": {
      "text/plain": [
       "<Figure size 640x480 with 1 Axes>"
      ],
      "image/png": "[encoded data removed]"
     },
     "metadata": {},
     "output_type": "display_data"
    }
   ],
   "execution_count": 20
  },
  {
   "metadata": {},
   "cell_type": "markdown",
   "source": [
    "Zadanie 1\n",
    "\n",
    "Bazując na przykładzie z wykładu stwórz model regresji wielomianowej dla dwóch stworzonych tutaj modeli regresji liniowej. Porównaj wyniki."
   ],
   "id": "87d6f71225271158"
  },
  {
   "metadata": {
    "ExecuteTime": {
     "end_time": "2025-05-23T18:49:20.736184Z",
     "start_time": "2025-05-23T18:49:20.710049Z"
    }
   },
   "cell_type": "code",
   "source": [
    "X1_train = X_train.values.reshape(-1,1)\n",
    "X1_test = X_test.values.reshape(-1,1)\n",
    "y1_train = y_train\n",
    "\n",
    "X2_train = X_train[~outliers_map].values.reshape(-1,1)\n",
    "X2_test = X_test.values.reshape(-1,1)\n",
    "y2_train = y_train[~outliers_map]\n",
    "\n",
    "poly_reg1 = make_pipeline(\n",
    "    PolynomialFeatures(degree=6),\n",
    "    LinearRegression()\n",
    ")\n",
    "poly_reg1.fit(X1_train, y1_train)\n",
    "predictions1_poly = poly_reg1.predict(X1_test)\n",
    "\n",
    "poly_reg2 = make_pipeline(\n",
    "    PolynomialFeatures(degree=6),\n",
    "    LinearRegression()\n",
    ")\n",
    "poly_reg2.fit(X2_train, y2_train)\n",
    "predictions2_poly = poly_reg2.predict(X2_test)\n",
    "\n",
    "print(\"\\nModel 1 (with outliers) - Polynomial Regression:\")\n",
    "print('MAE:', mean_absolute_error(y_test, predictions1_poly))\n",
    "print('MSE:', mean_squared_error(y_test, predictions1_poly))\n",
    "print('RMSE:', np.sqrt(mean_squared_error(y_test, predictions1_poly)))\n",
    "print('R2:', r2_score(y_test, predictions1_poly))\n",
    "\n",
    "print(\"\\nModel 2 (without outliers) - Polynomial Regression:\")\n",
    "print('MAE:', mean_absolute_error(y_test, predictions2_poly))\n",
    "print('MSE:', mean_squared_error(y_test, predictions2_poly))\n",
    "print('RMSE:', np.sqrt(mean_squared_error(y_test, predictions2_poly)))\n",
    "print('R2:', r2_score(y_test, predictions2_poly))"
   ],
   "id": "5bf574e87f9959a3",
   "outputs": [
    {
     "name": "stdout",
     "output_type": "stream",
     "text": [
      "\n",
      "Model 1 (with outliers) - Polynomial Regression:\n",
      "MAE: 67092742.965934664\n",
      "MSE: 1.0600505082102533e+18\n",
      "RMSE: 1029587542.7617863\n",
      "R2: -13007.255563776618\n",
      "\n",
      "Model 2 (without outliers) - Polynomial Regression:\n",
      "MAE: 67092742.965934664\n",
      "MSE: 1.0600505082102533e+18\n",
      "RMSE: 1029587542.7617863\n",
      "R2: -13007.255563776618\n"
     ]
    }
   ],
   "execution_count": 23
  },
  {
   "metadata": {},
   "cell_type": "markdown",
   "source": [
    "Zadanie 2\n",
    "\n",
    "Dodaj do zbioru danych cechę Number of rooms i sprawdź jak to wpływa na jakość modelu."
   ],
   "id": "523e145074b15185"
  },
  {
   "metadata": {
    "ExecuteTime": {
     "end_time": "2025-05-23T18:49:23.606112Z",
     "start_time": "2025-05-23T18:49:23.596665Z"
    }
   },
   "cell_type": "code",
   "source": [
    "otodf_2 = otodf[['Surface', 'Price', 'Number_of_Rooms']].dropna()\n",
    "otodf_2['Number_of_Rooms'] = otodf_2['Number_of_Rooms'].replace('więcej niż 10', 11)\n",
    "otodf_2['Number_of_Rooms'] = pd.to_numeric(otodf_2['Number_of_Rooms'], errors='coerce')\n",
    "otodf_2 = otodf_2.dropna()"
   ],
   "id": "fe8eb156a44557dc",
   "outputs": [],
   "execution_count": 24
  },
  {
   "metadata": {
    "ExecuteTime": {
     "end_time": "2025-05-23T18:49:24.863868Z",
     "start_time": "2025-05-23T18:49:24.852246Z"
    }
   },
   "cell_type": "code",
   "source": [
    "X = otodf_2[['Surface', 'Number_of_Rooms']]\n",
    "y = otodf_2['Price']\n",
    "\n",
    "X_train, X_test, y_train, y_test = train_test_split(X, y, test_size=0.25, random_state=0)\n",
    "\n",
    "model = LinearRegression()\n",
    "model.fit(X_train, y_train)\n",
    "\n",
    "pred = model.predict(X_test)\n",
    "\n",
    "print(\"MAE:\", mean_absolute_error(y_test, pred))\n",
    "print(\"MSE:\", mean_squared_error(y_test, pred))\n",
    "print(\"RMSE:\", np.sqrt(mean_squared_error(y_test, pred)))\n",
    "print(\"R²:\", r2_score(y_test, pred))"
   ],
   "id": "565dc20554525c47",
   "outputs": [
    {
     "name": "stdout",
     "output_type": "stream",
     "text": [
      "MAE: 1864467.683977827\n",
      "MSE: 81187039966881.58\n",
      "RMSE: 9010385.117567483\n",
      "R²: 0.0037250525554469727\n"
     ]
    }
   ],
   "execution_count": 25
  },
  {
   "metadata": {},
   "cell_type": "markdown",
   "source": [
    "Zadanie 3\n",
    "\n",
    "Zakoduj cechę Voivoideship (one-hot, dummy ?) i wykorzystaj w zbiorze danych i ponownie sprawdź jaki to ma wpływ na model."
   ],
   "id": "c9c88def39372d4b"
  },
  {
   "metadata": {
    "ExecuteTime": {
     "end_time": "2025-05-23T18:49:27.238427Z",
     "start_time": "2025-05-23T18:49:27.215807Z"
    }
   },
   "cell_type": "code",
   "source": [
    "otodf_3 = otodf[['Surface', 'Number_of_Rooms', 'Voivodeship', 'Price']].dropna()\n",
    "\n",
    "otodf_3['Number_of_Rooms'] = otodf_3['Number_of_Rooms'].replace('więcej niż 10', 11)\n",
    "otodf_3['Number_of_Rooms'] = pd.to_numeric(otodf_3['Number_of_Rooms'], errors='coerce')\n",
    "otodf_3 = otodf_3.dropna()\n",
    "\n",
    "voiv_dummies = pd.get_dummies(otodf_3['Voivodeship'], prefix='Voiv')\n",
    "\n",
    "otodf_3 = pd.concat([otodf_3.drop(columns=['Voivodeship']), voiv_dummies], axis=1)\n",
    "\n",
    "X = otodf_3.drop(columns=['Price'])\n",
    "y = otodf_3['Price']\n",
    "\n",
    "X_train, X_test, y_train, y_test = train_test_split(X, y, test_size=0.25, random_state=0)\n",
    "\n",
    "model = LinearRegression()\n",
    "model.fit(X_train, y_train)\n",
    "\n",
    "pred = model.predict(X_test)\n",
    "\n",
    "print(\"MAE:\", mean_absolute_error(y_test, pred))\n",
    "print(\"MSE:\", mean_squared_error(y_test, pred))\n",
    "print(\"RMSE:\", np.sqrt(mean_squared_error(y_test, pred)))\n",
    "print(\"R²:\", r2_score(y_test, pred))"
   ],
   "id": "cf6612350c3a19a1",
   "outputs": [
    {
     "name": "stdout",
     "output_type": "stream",
     "text": [
      "MAE: 1991411.468385511\n",
      "MSE: 94627752420374.02\n",
      "RMSE: 9727679.70383349\n",
      "R²: -5.774701619132294e-05\n"
     ]
    }
   ],
   "execution_count": 26
  },
  {
   "metadata": {},
   "cell_type": "markdown",
   "source": [
    "Zadanie 4 *\n",
    "\n",
    "Dodaj kolejne cechy modelu zastanawiając się nad poprawnym ich zakodowaniem, tak aby poprawić jego jakość.\n",
    "\n",
    "* zadanie opcjonalne (może być brane pod uwagę w przypadku wątpliwości co do finalnej oceny)."
   ],
   "id": "2fd8e8532903317c"
  },
  {
   "metadata": {
    "ExecuteTime": {
     "end_time": "2025-05-23T18:49:29.613581Z",
     "start_time": "2025-05-23T18:49:29.589174Z"
    }
   },
   "cell_type": "code",
   "source": [
    "otodf_4 = otodf[['Floor', 'Surface', 'Price', 'Number_of_Rooms', 'Voivodeship']].dropna()\n",
    "\n",
    "otodf_4['Number_of_Rooms'] = otodf_4['Number_of_Rooms'].replace('więcej niż 10', 11)\n",
    "otodf_4['Number_of_Rooms'] = pd.to_numeric(otodf_4['Number_of_Rooms'], errors='coerce')\n",
    "otodf_4 = otodf_4.dropna()\n",
    "\n",
    "otodf_4 = otodf_4[otodf_4['Floor'].str.contains(r'^\\d+/\\d+$')]\n",
    "\n",
    "otodf_4[['Floor_number', 'Total_floors']] = otodf_4['Floor'].str.split('/', expand=True).astype(int)\n",
    "\n",
    "voiv_dummies = pd.get_dummies(otodf_4['Voivodeship'], prefix='Voiv')\n",
    "\n",
    "X = pd.concat([\n",
    "    otodf_4[['Surface', 'Number_of_Rooms', 'Floor_number', 'Total_floors']],\n",
    "    voiv_dummies\n",
    "], axis=1)\n",
    "\n",
    "y = otodf_4['Price']\n",
    "X_train, X_test, y_train, y_test = train_test_split(X, y, test_size=0.25, random_state=0)\n",
    "\n",
    "model = LinearRegression()\n",
    "model.fit(X_train, y_train)\n",
    "pred = model.predict(X_test)\n",
    "\n",
    "print(\"MAE:\", mean_absolute_error(y_test, pred))\n",
    "print(\"MSE:\", mean_squared_error(y_test, pred))\n",
    "print(\"RMSE:\", np.sqrt(mean_squared_error(y_test, pred)))\n",
    "print(\"R²:\", r2_score(y_test, pred))"
   ],
   "id": "a330f74898b9596e",
   "outputs": [
    {
     "name": "stdout",
     "output_type": "stream",
     "text": [
      "MAE: 2173663.9039087403\n",
      "MSE: 114538841959696.67\n",
      "RMSE: 10702282.09120357\n",
      "R²: 0.006142805909760685\n"
     ]
    }
   ],
   "execution_count": 27
  }
 ],
 "metadata": {
  "kernelspec": {
   "display_name": "Python 3",
   "language": "python",
   "name": "python3"
  },
  "language_info": {
   "codemirror_mode": {
    "name": "ipython",
    "version": 2
   },
   "file_extension": ".py",
   "mimetype": "text/x-python",
   "name": "python",
   "nbconvert_exporter": "python",
   "pygments_lexer": "ipython2",
   "version": "2.7.6"
  }
 },
 "nbformat": 4,
 "nbformat_minor": 5
}
