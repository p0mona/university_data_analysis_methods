{
  "nbformat": 4,
  "nbformat_minor": 0,
  "metadata": {
    "colab": {
      "provenance": [],
      "authorship_tag": "ABX9TyNXBxR1CFhW24VJ5XiTdCKs",
      "include_colab_link": true
    },
    "kernelspec": {
      "name": "python3",
      "display_name": "Python 3"
    },
    "language_info": {
      "name": "python"
    }
  },
  "cells": [
    {
      "cell_type": "markdown",
      "metadata": {
        "id": "view-in-github",
        "colab_type": "text"
      },
      "source": [
        "<a href=\"https://colab.research.google.com/github/p0mona/university_data_analysis_methods/blob/main/mad_lab2.ipynb\" target=\"_parent\"><img src=\"https://colab.research.google.com/assets/colab-badge.svg\" alt=\"Open In Colab\"/></a>"
      ]
    },
    {
      "cell_type": "code",
      "source": [
        "import numpy as np\n",
        "import matplotlib.pyplot as plt"
      ],
      "metadata": {
        "id": "BGlshLZ0GTbY"
      },
      "execution_count": 1,
      "outputs": []
    },
    {
      "cell_type": "markdown",
      "source": [
        "#Zadanie 1\n",
        "\n",
        "Stwórz tablicę numpy o wymiarach (4,4) wypełnioną wartościami od 2 do 32 z krokiem 2 i przypisz ją do zmiennej. Wyświetl jej typ danch, liczbę elementów, wielkość pojedynczego elementu oraz ilość zaalokowanej pamięci."
      ],
      "metadata": {
        "id": "OExWS6qpCCqf"
      }
    },
    {
      "cell_type": "code",
      "source": [
        "table = np.arange(2, 33, 2).reshape(4, 4)\n",
        "\n",
        "print(f\"Typ danych: {table.dtype}\")\n",
        "print(f\"Liczba elementów: {table.size}\")\n",
        "print(f\"Wielkość pojedynczego elementu: {table.itemsize}\")\n",
        "print(f\"Ilość zaalokowanej pamięci: {table.nbytes}\")"
      ],
      "metadata": {
        "colab": {
          "base_uri": "https://localhost:8080/"
        },
        "id": "8a92KVHiCJ4c",
        "outputId": "e5a46248-8e7e-41cd-fd73-c0db8233e318"
      },
      "execution_count": 2,
      "outputs": [
        {
          "output_type": "stream",
          "name": "stdout",
          "text": [
            "Typ danych: int64\n",
            "Liczba elementów: 16\n",
            "Wielkość pojedynczego elementu: 8\n",
            "Ilość zaalokowanej pamięci: 128\n"
          ]
        }
      ]
    },
    {
      "cell_type": "markdown",
      "source": [
        "#Zadanie 2\n",
        "\n",
        "Zwróć tablicę z zadania 1 jako widok. Zmień jej typ danych (możesz to zrobić np. funkcją astype()) na np.uint8. Sprawdź teraz czy tablica jest widokiem czy kopią tablicy oryginalnej. Wyświetl jej liczbę elementów, wielkość pojedynczego elementu oraz ilość zaalokowanej pamięci."
      ],
      "metadata": {
        "id": "70-2ppbpCKnl"
      }
    },
    {
      "cell_type": "code",
      "source": [
        "table_view = table.view()"
      ],
      "metadata": {
        "id": "8jzY2qt5CO_R"
      },
      "execution_count": 3,
      "outputs": []
    },
    {
      "cell_type": "code",
      "source": [
        "# Zmiana typu danych\n",
        "table_view = table_view.astype(np.uint8)"
      ],
      "metadata": {
        "id": "ZZRTHOQ1AYCS"
      },
      "execution_count": 4,
      "outputs": []
    },
    {
      "cell_type": "code",
      "source": [
        "# Czy tablica jest widokiem?\n",
        "print(f\"Czy tablica jest widokiem? {table_view.base is table.base}\")"
      ],
      "metadata": {
        "colab": {
          "base_uri": "https://localhost:8080/"
        },
        "id": "w2slE756Abs6",
        "outputId": "340880f8-dd04-4186-958f-db50046bc35a"
      },
      "execution_count": 5,
      "outputs": [
        {
          "output_type": "stream",
          "name": "stdout",
          "text": [
            "Czy tablica jest widokiem? False\n"
          ]
        }
      ]
    },
    {
      "cell_type": "code",
      "source": [
        "print(f\"Liczba elementów: {table_view.size}\")\n",
        "print(f\"Wielkość pojedynczego elementu: {table_view.itemsize}\")\n",
        "print(f\"Ilość zaalokowanej pamięci: {table_view.nbytes}\")"
      ],
      "metadata": {
        "colab": {
          "base_uri": "https://localhost:8080/"
        },
        "id": "XqsVUd_7Aiir",
        "outputId": "01513304-499f-456d-be94-395dc70cbe1c"
      },
      "execution_count": 6,
      "outputs": [
        {
          "output_type": "stream",
          "name": "stdout",
          "text": [
            "Liczba elementów: 16\n",
            "Wielkość pojedynczego elementu: 1\n",
            "Ilość zaalokowanej pamięci: 16\n"
          ]
        }
      ]
    },
    {
      "cell_type": "code",
      "source": [
        "table_view.base is table.base"
      ],
      "metadata": {
        "colab": {
          "base_uri": "https://localhost:8080/"
        },
        "id": "gJgDVEoXGOV8",
        "outputId": "64c3d5ca-e2c2-4e19-d21e-c88b7167b6f2"
      },
      "execution_count": 7,
      "outputs": [
        {
          "output_type": "execute_result",
          "data": {
            "text/plain": [
              "False"
            ]
          },
          "metadata": {},
          "execution_count": 7
        }
      ]
    },
    {
      "cell_type": "markdown",
      "source": [
        "#Zadanie 3\n",
        "\n",
        "Wytnij z tablicy z zadania 1 obszar 2 x 2 \"ze środka\" tablicy (wartości 12,14, 20,22) na dwa sposoby:\n",
        "\n",
        "-jeden jako widok i przypisz do zmiennej\n",
        "\n",
        "-drugi jako kopia i przypisz do zmiennej\n",
        "\n",
        "Posługując się przykładami z zajęć sprawdź czy baza tych dwóch tablic jest różna (powinna być)."
      ],
      "metadata": {
        "id": "sO95TV-hCPqw"
      }
    },
    {
      "cell_type": "code",
      "source": [
        "# jako widok\n",
        "widok = table[1:3, 1:3]\n",
        "widok"
      ],
      "metadata": {
        "id": "sCcF6tihCbMx",
        "colab": {
          "base_uri": "https://localhost:8080/"
        },
        "outputId": "094cd74e-a2f5-4b5e-c924-81239039c27e"
      },
      "execution_count": 8,
      "outputs": [
        {
          "output_type": "execute_result",
          "data": {
            "text/plain": [
              "array([[12, 14],\n",
              "       [20, 22]])"
            ]
          },
          "metadata": {},
          "execution_count": 8
        }
      ]
    },
    {
      "cell_type": "code",
      "source": [
        "# jako kopia\n",
        "row = np.array([1, 1, 2, 2])\n",
        "col = np.array([1, 2, 1, 2])\n",
        "kopia = table[row, col].reshape(2, 2)\n",
        "kopia"
      ],
      "metadata": {
        "colab": {
          "base_uri": "https://localhost:8080/"
        },
        "id": "5pXsd870BPFi",
        "outputId": "3313ac68-4021-40db-e6fe-8a94be794832"
      },
      "execution_count": 9,
      "outputs": [
        {
          "output_type": "execute_result",
          "data": {
            "text/plain": [
              "array([[12, 14],\n",
              "       [20, 22]])"
            ]
          },
          "metadata": {},
          "execution_count": 9
        }
      ]
    },
    {
      "cell_type": "code",
      "source": [
        "# Sprawdzanie bazy\n",
        "print(widok.base is kopia.base)"
      ],
      "metadata": {
        "colab": {
          "base_uri": "https://localhost:8080/"
        },
        "id": "TqERcXjvCFX5",
        "outputId": "41e8b211-b48c-4e46-e542-a12e7b387e08"
      },
      "execution_count": 10,
      "outputs": [
        {
          "output_type": "stream",
          "name": "stdout",
          "text": [
            "False\n"
          ]
        }
      ]
    },
    {
      "cell_type": "markdown",
      "source": [
        "#Zadanie 4\n",
        "\n",
        "Stwórz tablicę 4x4, która zawiera wartości 1,2,3,4 w każdym wierszu. Następnie wykorzystując funkcje łączenia tablic utwórz tablicę połączoną z powyższej tablicy i jej wersji lustrzanej w poziomie (spróbuj użyć wycinków)."
      ],
      "metadata": {
        "id": "cKkkz9yFCW7W"
      }
    },
    {
      "cell_type": "code",
      "source": [
        "arr = np.array([1, 2, 3, 4] * 4).reshape(4, 4)\n",
        "arr"
      ],
      "metadata": {
        "id": "-IQxvqRnCWpZ",
        "colab": {
          "base_uri": "https://localhost:8080/"
        },
        "outputId": "91bc36a7-b783-4e4f-fd42-0448d6f7503a"
      },
      "execution_count": 11,
      "outputs": [
        {
          "output_type": "execute_result",
          "data": {
            "text/plain": [
              "array([[1, 2, 3, 4],\n",
              "       [1, 2, 3, 4],\n",
              "       [1, 2, 3, 4],\n",
              "       [1, 2, 3, 4]])"
            ]
          },
          "metadata": {},
          "execution_count": 11
        }
      ]
    },
    {
      "cell_type": "code",
      "source": [
        "arr_h = arr[:, :: -1]\n",
        "arr_h"
      ],
      "metadata": {
        "colab": {
          "base_uri": "https://localhost:8080/"
        },
        "id": "AvwvBB4lLB7X",
        "outputId": "fb880764-0155-4685-e21d-f71ccf328869"
      },
      "execution_count": 12,
      "outputs": [
        {
          "output_type": "execute_result",
          "data": {
            "text/plain": [
              "array([[4, 3, 2, 1],\n",
              "       [4, 3, 2, 1],\n",
              "       [4, 3, 2, 1],\n",
              "       [4, 3, 2, 1]])"
            ]
          },
          "metadata": {},
          "execution_count": 12
        }
      ]
    },
    {
      "cell_type": "code",
      "source": [
        "arr_concat = np.concatenate((arr, arr_h), axis=1)\n",
        "arr_concat"
      ],
      "metadata": {
        "colab": {
          "base_uri": "https://localhost:8080/"
        },
        "id": "OA_jHFY6LEiq",
        "outputId": "4495e74a-7e45-499e-828a-f0266969a33a"
      },
      "execution_count": 16,
      "outputs": [
        {
          "output_type": "execute_result",
          "data": {
            "text/plain": [
              "array([[1, 2, 3, 4, 4, 3, 2, 1],\n",
              "       [1, 2, 3, 4, 4, 3, 2, 1],\n",
              "       [1, 2, 3, 4, 4, 3, 2, 1],\n",
              "       [1, 2, 3, 4, 4, 3, 2, 1]])"
            ]
          },
          "metadata": {},
          "execution_count": 16
        }
      ]
    },
    {
      "cell_type": "markdown",
      "source": [
        "#Zadanie 5\n",
        "\n",
        "Utwórz tablicę o nazwie Z_5 o wymiarach 2x2 wypełnioną wartościami 1. Wykorzystując funkcje łączenia tabel uwtórz tablicę, która finalnie będzie tablicą składającą się z 4-ech tablic Z_5, ale tak aby finalnie była to tablica 4 x 4 podobna do poniższej:\n",
        "\n",
        "1,1,2,2\n",
        "\n",
        "1,1,2,2\n",
        "\n",
        "3,3,4,4\n",
        "\n",
        "3,3,4,4"
      ],
      "metadata": {
        "id": "QSh3p3C3Caru"
      }
    },
    {
      "cell_type": "code",
      "source": [
        "Z_5 = np.tile([1, 1], 2).reshape(2, 2)\n"
      ],
      "metadata": {
        "id": "L9i_EzFbChWR"
      },
      "execution_count": 14,
      "outputs": []
    },
    {
      "cell_type": "code",
      "source": [
        "result = np.concatenate((np.concatenate((Z_5, Z_5 * 2), axis=1), np.concatenate((Z_5 * 2 + Z_5, Z_5 * 4), axis=1)), axis=0)\n",
        "result"
      ],
      "metadata": {
        "colab": {
          "base_uri": "https://localhost:8080/"
        },
        "id": "FqbrFzmZNGHY",
        "outputId": "6cb1ec75-5ef7-4f32-c0f1-15323a150737"
      },
      "execution_count": 15,
      "outputs": [
        {
          "output_type": "execute_result",
          "data": {
            "text/plain": [
              "array([[1, 1, 2, 2],\n",
              "       [1, 1, 2, 2],\n",
              "       [3, 3, 4, 4],\n",
              "       [3, 3, 4, 4]])"
            ]
          },
          "metadata": {},
          "execution_count": 15
        }
      ]
    }
  ]
}